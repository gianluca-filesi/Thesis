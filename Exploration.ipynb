{
 "cells": [
  {
   "cell_type": "code",
   "execution_count": 1,
   "id": "c20e7a74",
   "metadata": {},
   "outputs": [],
   "source": [
    "import pandas as pd\n",
    "import numpy as np\n",
    "import matplotlib.pyplot as plt\n",
    "import seaborn as sns\n",
    "import statsmodels.api as sm\n",
    "from linearmodels import PanelOLS\n",
    "from statsmodels.stats.outliers_influence import variance_inflation_factor\n",
    "import plotly.express as px\n",
    "\n",
    "sns.set_theme()"
   ]
  },
  {
   "cell_type": "code",
   "execution_count": 2,
   "id": "cd4faee4",
   "metadata": {},
   "outputs": [],
   "source": [
    "def Pivoting(df): # Function to pivot the dataframe\n",
    "    df_r = df.pivot(index=['iso3','hdicode','region','year'], columns='indicator_name', values='value').reset_index()\n",
    "    df_r.reset_index(inplace=True)\n",
    "    df_r.columns.name = None\n",
    "    df_r.drop(columns=['index'], inplace=True)\n",
    "    df_r['year'] = pd.to_datetime(df_r['year'], format='%Y',errors='coerce').dt.year\n",
    "    return df_r"
   ]
  },
  {
   "cell_type": "code",
   "execution_count": 3,
   "id": "1b811a21",
   "metadata": {},
   "outputs": [
    {
     "name": "stderr",
     "output_type": "stream",
     "text": [
      "/var/folders/pl/qxmk8x1d1m586z4_j013bvqw0000gn/T/ipykernel_4258/247098959.py:6: DtypeWarning: Columns (4) have mixed types. Specify dtype option on import or set low_memory=False.\n",
      "  schooling = pd.read_csv(path+'UNESCO/OPRI_DATA_NATIONAL.zip', dtype={'INDICATOR_ID': 'object'}, compression='zip')  # Schooling data\n"
     ]
    }
   ],
   "source": [
    "path = 'Datasets/'\n",
    "\n",
    "gdp_pc_ppp = pd.read_csv(path + 'GDP per capita, PPP (current international)/WB_WDI_NY_GDP_PCAP_PP_CD.csv') # GDP per capita, PPP (current international $)\n",
    "hdr = pd.read_csv(path + 'HDR/HDR25_Composite_indices_complete_time_series.csv',encoding='latin1') # Human Development Index\n",
    "hdr_labels = pd.read_excel(path + 'HDR/HDR25_Composite_indices_metadata.xlsx', sheet_name = 'codebook') # Human Development\n",
    "schooling = pd.read_csv(path+'UNESCO/OPRI_DATA_NATIONAL.zip', dtype={'INDICATOR_ID': 'object'}, compression='zip')  # Schooling data\n",
    "schooling_labels = pd.read_csv(path+'UNESCO/OPRI_LABEL.csv') # Schooling labels\n",
    "gs = pd.read_csv(path + 'GenderStatistics/GS.csv') # Globalization data"
   ]
  },
  {
   "cell_type": "code",
   "execution_count": 4,
   "id": "422feda7",
   "metadata": {},
   "outputs": [],
   "source": [
    "hdr_labels.drop(columns=['Time series'], inplace=True)\n",
    "hdr_labels.dropna(subset=['Short name'], inplace=True)\n",
    "hdr_labels.rename(columns={'Full name': 'indicator_name', 'Short name': 'indicator'}, inplace=True)"
   ]
  },
  {
   "cell_type": "code",
   "execution_count": 5,
   "id": "97d084c2",
   "metadata": {},
   "outputs": [],
   "source": [
    "HDR = hdr.copy()\n",
    "df_melted = HDR.melt(id_vars=['iso3', 'country', 'hdicode', 'region', 'hdi_rank_2023'], var_name='indicator_year', value_name='value') # Melt the dataframe to long format\n",
    "df_melted[['indicator', 'year']] = df_melted['indicator_year'].str.extract(r'([a-z0-9_]+)_(\\d{4})')\n",
    "df_final = df_melted[['iso3','hdicode','region','year', 'indicator', 'value']] # Reorder and select final columns\n",
    "HDR = pd.merge(hdr_labels, df_final, on=['indicator'], how='right') # Merge with labels"
   ]
  },
  {
   "cell_type": "code",
   "execution_count": 6,
   "id": "44ef7652",
   "metadata": {},
   "outputs": [],
   "source": [
    "HDI_indicators = ['hdi', 'le', 'eys', 'mys', 'gnipc']\n",
    "GDI_indicators = ['gdi_group', 'gdi', 'hdi_f', 'le_f', 'eys_f', 'mys_f', 'gni_pc_f', 'hdi_m', 'le_m', 'eys_m', 'mys_m', 'gni_pc_m']\n",
    "IHDI_indicators = ['ihdi', 'coef_ineq', 'loss', 'ineq_le', 'ineq_edu', 'ineq_inc']\n",
    "GII_indicators = ['gii_rank', 'gii', 'mmr', 'abr', 'se_f', 'se_m', 'pr_f', 'pr_m', 'lfpr_f', 'lfpr_m']\n",
    "PHDI_indicators = ['rankdiff_hdi_phdi', 'phdi', 'diff_hdi_phdi', 'co2_prod', 'mf']\n",
    "Population_indicator = ['pop_total']"
   ]
  },
  {
   "cell_type": "code",
   "execution_count": 7,
   "id": "3cf7b54e",
   "metadata": {},
   "outputs": [],
   "source": [
    "hdi = HDR[HDR['indicator'].isin(HDI_indicators)]\n",
    "gdi = HDR[HDR['indicator'].isin(GDI_indicators)]\n",
    "ihdi = HDR[HDR['indicator'].isin(IHDI_indicators)]\n",
    "gii = HDR[HDR['indicator'].isin(GII_indicators)]\n",
    "phdi = HDR[HDR['indicator'].isin(PHDI_indicators)]"
   ]
  },
  {
   "cell_type": "code",
   "execution_count": 8,
   "id": "2f1ff817",
   "metadata": {},
   "outputs": [],
   "source": [
    "HDI = Pivoting(hdi)\n",
    "GDI = Pivoting(gdi)\n",
    "IHDI = Pivoting(ihdi)\n",
    "GII = Pivoting(gii)"
   ]
  },
  {
   "cell_type": "code",
   "execution_count": 18,
   "id": "3360c5e6",
   "metadata": {},
   "outputs": [
    {
     "data": {
      "application/vnd.microsoft.datawrangler.viewer.v0+json": {
       "columns": [
        {
         "name": "index",
         "rawType": "object",
         "type": "string"
        },
        {
         "name": "YEAR",
         "rawType": "float64",
         "type": "float"
        },
        {
         "name": "VALUE",
         "rawType": "float64",
         "type": "float"
        }
       ],
       "conversionMethod": "pd.DataFrame",
       "ref": "a4967e45-665b-480f-b20e-5e840dcef9af",
       "rows": [
        [
         "count",
         "3614360.0",
         "3614360.0"
        ],
        [
         "mean",
         "2006.5421169999668",
         "177831.8478634067"
        ],
        [
         "std",
         "13.617555652306624",
         "2284097.746610512"
        ],
        [
         "min",
         "1970.0",
         "-884224.0"
        ],
        [
         "25%",
         "2000.0",
         "0.0"
        ],
        [
         "50%",
         "2010.0",
         "8.252894878387451"
        ],
        [
         "75%",
         "2017.0",
         "470.0"
        ],
        [
         "max",
         "2025.0",
         "276618592.0"
        ]
       ],
       "shape": {
        "columns": 2,
        "rows": 8
       }
      },
      "text/html": [
       "<div>\n",
       "<style scoped>\n",
       "    .dataframe tbody tr th:only-of-type {\n",
       "        vertical-align: middle;\n",
       "    }\n",
       "\n",
       "    .dataframe tbody tr th {\n",
       "        vertical-align: top;\n",
       "    }\n",
       "\n",
       "    .dataframe thead th {\n",
       "        text-align: right;\n",
       "    }\n",
       "</style>\n",
       "<table border=\"1\" class=\"dataframe\">\n",
       "  <thead>\n",
       "    <tr style=\"text-align: right;\">\n",
       "      <th></th>\n",
       "      <th>YEAR</th>\n",
       "      <th>VALUE</th>\n",
       "    </tr>\n",
       "  </thead>\n",
       "  <tbody>\n",
       "    <tr>\n",
       "      <th>count</th>\n",
       "      <td>3.614360e+06</td>\n",
       "      <td>3.614360e+06</td>\n",
       "    </tr>\n",
       "    <tr>\n",
       "      <th>mean</th>\n",
       "      <td>2.006542e+03</td>\n",
       "      <td>1.778318e+05</td>\n",
       "    </tr>\n",
       "    <tr>\n",
       "      <th>std</th>\n",
       "      <td>1.361756e+01</td>\n",
       "      <td>2.284098e+06</td>\n",
       "    </tr>\n",
       "    <tr>\n",
       "      <th>min</th>\n",
       "      <td>1.970000e+03</td>\n",
       "      <td>-8.842240e+05</td>\n",
       "    </tr>\n",
       "    <tr>\n",
       "      <th>25%</th>\n",
       "      <td>2.000000e+03</td>\n",
       "      <td>0.000000e+00</td>\n",
       "    </tr>\n",
       "    <tr>\n",
       "      <th>50%</th>\n",
       "      <td>2.010000e+03</td>\n",
       "      <td>8.252895e+00</td>\n",
       "    </tr>\n",
       "    <tr>\n",
       "      <th>75%</th>\n",
       "      <td>2.017000e+03</td>\n",
       "      <td>4.700000e+02</td>\n",
       "    </tr>\n",
       "    <tr>\n",
       "      <th>max</th>\n",
       "      <td>2.025000e+03</td>\n",
       "      <td>2.766186e+08</td>\n",
       "    </tr>\n",
       "  </tbody>\n",
       "</table>\n",
       "</div>"
      ],
      "text/plain": [
       "               YEAR         VALUE\n",
       "count  3.614360e+06  3.614360e+06\n",
       "mean   2.006542e+03  1.778318e+05\n",
       "std    1.361756e+01  2.284098e+06\n",
       "min    1.970000e+03 -8.842240e+05\n",
       "25%    2.000000e+03  0.000000e+00\n",
       "50%    2.010000e+03  8.252895e+00\n",
       "75%    2.017000e+03  4.700000e+02\n",
       "max    2.025000e+03  2.766186e+08"
      ]
     },
     "execution_count": 18,
     "metadata": {},
     "output_type": "execute_result"
    }
   ],
   "source": [
    "schooling.describe().iloc[:,0:2]"
   ]
  },
  {
   "cell_type": "code",
   "execution_count": 20,
   "id": "e867584a",
   "metadata": {},
   "outputs": [
    {
     "data": {
      "text/plain": [
       "Index(['STRUCTURE', 'STRUCTURE_ID', 'ACTION', 'FREQ_ID', 'FREQ_NAME',\n",
       "       'REF_AREA_ID', 'REF_AREA_NAME', 'INDICATOR_ID', 'INDICATOR_NAME',\n",
       "       'SEX_ID', 'SEX_NAME', 'AGE_ID', 'AGE_NAME', 'URBANISATION_ID',\n",
       "       'URBANISATION_NAME', 'UNIT_MEASURE_ID', 'UNIT_MEASURE_NAME',\n",
       "       'COMP_BREAKDOWN_1_ID', 'COMP_BREAKDOWN_1_NAME', 'COMP_BREAKDOWN_2_ID',\n",
       "       'COMP_BREAKDOWN_2_NAME', 'COMP_BREAKDOWN_3_ID', 'COMP_BREAKDOWN_3_NAME',\n",
       "       'TIME_PERIOD', 'OBS_VALUE', 'AGG_METHOD_ID', 'AGG_METHOD_NAME',\n",
       "       'DECIMALS_ID', 'DECIMALS_NAME', 'DATABASE_ID_ID', 'DATABASE_ID_NAME',\n",
       "       'COMMENT_TS', 'UNIT_MULT_ID', 'UNIT_MULT_NAME', 'DATA_SOURCE_ID',\n",
       "       'DATA_SOURCE_NAME', 'UNIT_TYPE_ID', 'UNIT_TYPE_NAME', 'TIME_FORMAT_ID',\n",
       "       'TIME_FORMAT_NAME', 'COMMENT_OBS', 'OBS_STATUS_ID', 'OBS_STATUS_NAME',\n",
       "       'OBS_CONF_ID', 'OBS_CONF_NAME'],\n",
       "      dtype='object')"
      ]
     },
     "execution_count": 20,
     "metadata": {},
     "output_type": "execute_result"
    }
   ],
   "source": [
    "gdp_pc_ppp.columns"
   ]
  }
 ],
 "metadata": {
  "kernelspec": {
   "display_name": "base",
   "language": "python",
   "name": "python3"
  },
  "language_info": {
   "codemirror_mode": {
    "name": "ipython",
    "version": 3
   },
   "file_extension": ".py",
   "mimetype": "text/x-python",
   "name": "python",
   "nbconvert_exporter": "python",
   "pygments_lexer": "ipython3",
   "version": "3.12.9"
  }
 },
 "nbformat": 4,
 "nbformat_minor": 5
}
