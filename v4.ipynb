{
 "cells": [
  {
   "cell_type": "code",
   "execution_count": 1,
   "id": "5d141b11",
   "metadata": {},
   "outputs": [],
   "source": [
    "import pandas as pd\n",
    "import numpy as np\n",
    "import matplotlib.pyplot as plt\n",
    "import seaborn as sns\n",
    "import statsmodels.api as sm\n",
    "from linearmodels import PanelOLS\n",
    "import plotly.express as px\n",
    "\n",
    "sns.set_theme()"
   ]
  },
  {
   "cell_type": "markdown",
   "id": "6328eae3",
   "metadata": {},
   "source": [
    "# Functions"
   ]
  },
  {
   "cell_type": "markdown",
   "id": "b63318ea",
   "metadata": {},
   "source": [
    "# Data loading and preparation"
   ]
  },
  {
   "cell_type": "code",
   "execution_count": 15,
   "id": "172e9def",
   "metadata": {},
   "outputs": [],
   "source": [
    "def Pivoting(df): # Function to pivot the dataframe\n",
    "    df_r = df.pivot(index=['iso3','hdicode','region','year'], columns='indicator_name', values='value').reset_index()\n",
    "    df_r.reset_index(inplace=True)\n",
    "    df_r.columns.name = None\n",
    "    df_r.drop(columns=['index'], inplace=True)\n",
    "    return df_r"
   ]
  },
  {
   "cell_type": "markdown",
   "id": "59615706",
   "metadata": {},
   "source": [
    "## Data Loading"
   ]
  },
  {
   "cell_type": "code",
   "execution_count": 3,
   "id": "47ada29e",
   "metadata": {},
   "outputs": [
    {
     "name": "stderr",
     "output_type": "stream",
     "text": [
      "/var/folders/pl/qxmk8x1d1m586z4_j013bvqw0000gn/T/ipykernel_15493/267615297.py:6: DtypeWarning: Columns (4) have mixed types. Specify dtype option on import or set low_memory=False.\n",
      "  schooling = pd.read_csv(path+'UNESCO/OPRI_DATA_NATIONAL.zip', dtype={'INDICATOR_ID': 'object'}, compression='zip')  # Schooling data\n"
     ]
    }
   ],
   "source": [
    "path = 'Datasets/'\n",
    "\n",
    "gdp_pc_ppp = pd.read_csv(path + 'GDP per capita, PPP (current international)/WB_WDI_NY_GDP_PCAP_PP_CD.csv') # GDP per capita, PPP (current international $)\n",
    "hdr = pd.read_csv(path + 'HDR/HDR25_Composite_indices_complete_time_series.csv',encoding='latin1') # Human Development Index\n",
    "hdr_labels = pd.read_excel(path + 'HDR/HDR25_Composite_indices_metadata.xlsx', sheet_name = 'codebook') # Human Development\n",
    "schooling = pd.read_csv(path+'UNESCO/OPRI_DATA_NATIONAL.zip', dtype={'INDICATOR_ID': 'object'}, compression='zip')  # Schooling data\n",
    "schooling_labels = pd.read_csv(path+'UNESCO/OPRI_LABEL.csv') # Schooling labels"
   ]
  },
  {
   "cell_type": "markdown",
   "id": "05d168c8",
   "metadata": {},
   "source": [
    "## Data preparation"
   ]
  },
  {
   "cell_type": "markdown",
   "id": "9680a28b",
   "metadata": {},
   "source": [
    "### HDR"
   ]
  },
  {
   "cell_type": "code",
   "execution_count": 4,
   "id": "4ef5383c",
   "metadata": {},
   "outputs": [],
   "source": [
    "HDR_ISO_country = {hdr['iso3'][i]:hdr['country'][i] for i in range(len(hdr))}"
   ]
  },
  {
   "cell_type": "code",
   "execution_count": 5,
   "id": "053ca1a7",
   "metadata": {},
   "outputs": [],
   "source": [
    "hdr_labels.drop(columns=['Time series'], inplace=True)\n",
    "hdr_labels.dropna(subset=['Short name'], inplace=True)\n",
    "hdr_labels.rename(columns={'Full name': 'indicator_name', 'Short name': 'indicator'}, inplace=True)"
   ]
  },
  {
   "cell_type": "code",
   "execution_count": 6,
   "id": "ea9f43c0",
   "metadata": {},
   "outputs": [],
   "source": [
    "HDR = hdr.copy()\n",
    "df_melted = HDR.melt(id_vars=['iso3', 'country', 'hdicode', 'region', 'hdi_rank_2023'], var_name='indicator_year', value_name='value') # Melt the dataframe to long format\n",
    "df_melted[['indicator', 'year']] = df_melted['indicator_year'].str.extract(r'([a-z0-9_]+)_(\\d{4})')\n",
    "df_final = df_melted[['iso3','hdicode','region','year', 'indicator', 'value']] # Reorder and select final columns\n",
    "HDR = pd.merge(hdr_labels, df_final, on=['indicator'], how='right') # Merge with labels"
   ]
  },
  {
   "cell_type": "code",
   "execution_count": 7,
   "id": "7faf6974",
   "metadata": {},
   "outputs": [],
   "source": [
    "HDI_indicators = ['hdi', 'le', 'eys', 'mys', 'gnipc']\n",
    "GDI_indicators = ['gdi_group', 'gdi', 'hdi_f', 'le_f', 'eys_f', 'mys_f', 'gni_pc_f', 'hdi_m', 'le_m', 'eys_m', 'mys_m', 'gni_pc_m']\n",
    "IHDI_indicators = ['ihdi', 'coef_ineq', 'loss', 'ineq_le', 'ineq_edu', 'ineq_inc']\n",
    "GII_indicators = ['gii_rank', 'gii', 'mmr', 'abr', 'se_f', 'se_m', 'pr_f', 'pr_m', 'lfpr_f', 'lfpr_m']\n",
    "PHDI_indicators = ['rankdiff_hdi_phdi', 'phdi', 'diff_hdi_phdi', 'co2_prod', 'mf']\n",
    "Population_indicator = ['pop_total']"
   ]
  },
  {
   "cell_type": "code",
   "execution_count": 8,
   "id": "19b34235",
   "metadata": {},
   "outputs": [],
   "source": [
    "hdi = HDR[HDR['indicator'].isin(HDI_indicators+Population_indicator)]\n",
    "gdi = HDR[HDR['indicator'].isin(GDI_indicators+Population_indicator)]\n",
    "ihdi = HDR[HDR['indicator'].isin(IHDI_indicators+Population_indicator)]\n",
    "gii = HDR[HDR['indicator'].isin(GII_indicators+Population_indicator)]\n",
    "phdi = HDR[HDR['indicator'].isin(PHDI_indicators+Population_indicator)]"
   ]
  },
  {
   "cell_type": "code",
   "execution_count": 16,
   "id": "3e397ba5",
   "metadata": {},
   "outputs": [],
   "source": [
    "HDI = Pivoting(hdi)\n",
    "GDI = Pivoting(gdi)\n",
    "IHDI = Pivoting(ihdi)\n",
    "GII = Pivoting(gii)"
   ]
  },
  {
   "cell_type": "markdown",
   "id": "2e67f647",
   "metadata": {},
   "source": [
    "#### GDP per Capita PPP"
   ]
  },
  {
   "cell_type": "code",
   "execution_count": 11,
   "id": "d3c1b599",
   "metadata": {},
   "outputs": [],
   "source": [
    "WB_ISO_country = {gdp_pc_ppp['REF_AREA_ID'][i]:gdp_pc_ppp['REF_AREA_NAME'][i] for i in range(len(gdp_pc_ppp))}"
   ]
  },
  {
   "cell_type": "code",
   "execution_count": null,
   "id": "b91da55d",
   "metadata": {},
   "outputs": [
    {
     "data": {
      "application/vnd.microsoft.datawrangler.viewer.v0+json": {
       "columns": [
        {
         "name": "index",
         "rawType": "int64",
         "type": "integer"
        },
        {
         "name": "iso3",
         "rawType": "object",
         "type": "string"
        },
        {
         "name": "year",
         "rawType": "int32",
         "type": "integer"
        },
        {
         "name": "GDP",
         "rawType": "float64",
         "type": "float"
        },
        {
         "name": "logGDP",
         "rawType": "float64",
         "type": "float"
        }
       ],
       "conversionMethod": "pd.DataFrame",
       "ref": "fd0b3045-2ef8-41f9-ba3e-951e15413975",
       "rows": [
        [
         "0",
         "AFE",
         "1990",
         "1804.850022431544",
         "7.498232777249184"
        ],
        [
         "1",
         "AFW",
         "1990",
         "1727.098431631397",
         "7.454198072255776"
        ],
        [
         "2",
         "ARB",
         "1990",
         "6796.211334740711",
         "8.824120579238976"
        ],
        [
         "3",
         "CSS",
         "1990",
         "7293.576336797784",
         "8.894749285886492"
        ],
        [
         "4",
         "CEB",
         "1990",
         "7527.912898740695",
         "8.926373110892845"
        ],
        [
         "5",
         "EAR",
         "1990",
         "2943.986565015632",
         "7.987519916324642"
        ],
        [
         "6",
         "EAS",
         "1990",
         "3254.10941063465",
         "8.087673910641708"
        ],
        [
         "7",
         "EAP",
         "1990",
         "1459.801278719314",
         "7.2860555949722885"
        ],
        [
         "8",
         "TEA",
         "1990",
         "1477.625026404656",
         "7.298191365940201"
        ],
        [
         "9",
         "EMU",
         "1990",
         "17007.78100895671",
         "9.741426224731944"
        ],
        [
         "10",
         "ECS",
         "1990",
         "11894.36505143004",
         "9.383820041861298"
        ],
        [
         "11",
         "ECA",
         "1990",
         "6322.297195077233",
         "8.751837901331704"
        ],
        [
         "12",
         "TEC",
         "1990",
         "6901.553706151175",
         "8.839501840041828"
        ],
        [
         "13",
         "EUU",
         "1990",
         "14969.24641949773",
         "9.613753136767695"
        ],
        [
         "14",
         "FCS",
         "1990",
         "2441.670312220705",
         "7.800437638275718"
        ],
        [
         "15",
         "HPC",
         "1990",
         "1076.930739712481",
         "6.981870366557848"
        ],
        [
         "16",
         "HIC",
         "1990",
         "16871.07912439632",
         "9.733356140559788"
        ],
        [
         "17",
         "IBD",
         "1990",
         "2970.152999284695",
         "7.996368745380569"
        ],
        [
         "18",
         "IBT",
         "1990",
         "2641.84879882327",
         "7.879234253627501"
        ],
        [
         "19",
         "IDB",
         "1990",
         "2007.512335557635",
         "7.604651590538095"
        ],
        [
         "20",
         "IDX",
         "1990",
         "1026.68372719181",
         "6.934089204556063"
        ],
        [
         "21",
         "IDA",
         "1990",
         "1349.423395974242",
         "7.207432666100116"
        ],
        [
         "22",
         "LTE",
         "1990",
         "2906.239206157582",
         "7.974615155318475"
        ],
        [
         "23",
         "LCN",
         "1990",
         "6286.007299731145",
         "8.746081378624918"
        ],
        [
         "24",
         "LAC",
         "1990",
         "6190.307419687971",
         "8.730740028369173"
        ],
        [
         "25",
         "TLA",
         "1990",
         "6267.691583104416",
         "8.743163397272392"
        ],
        [
         "26",
         "LDC",
         "1990",
         "937.2554654694464",
         "6.842955886988133"
        ],
        [
         "27",
         "LMY",
         "1990",
         "2325.226836519543",
         "7.751572877356817"
        ],
        [
         "28",
         "LIC",
         "1990",
         "763.6999239355985",
         "6.638174942294489"
        ],
        [
         "29",
         "LMC",
         "1990",
         "1539.381499321107",
         "7.339135990917765"
        ],
        [
         "30",
         "MEA",
         "1990",
         "7717.902166818167",
         "8.951297866041344"
        ],
        [
         "31",
         "MNA",
         "1990",
         "4727.677792753264",
         "8.461189408022854"
        ],
        [
         "32",
         "TMN",
         "1990",
         "4751.108737016802",
         "8.466133288110196"
        ],
        [
         "33",
         "MIC",
         "1990",
         "2447.10414655276",
         "7.802660623449429"
        ],
        [
         "34",
         "NAC",
         "1990",
         "23525.82460183174",
         "10.065854015989395"
        ],
        [
         "35",
         "OED",
         "1990",
         "16675.37724586445",
         "9.721688493968065"
        ],
        [
         "36",
         "OSS",
         "1990",
         "8158.706232737063",
         "9.006840885478113"
        ],
        [
         "37",
         "PSS",
         "1990",
         "2816.693179369121",
         "7.94331884443258"
        ],
        [
         "38",
         "PST",
         "1990",
         "18052.00676622689",
         "9.801012135765506"
        ],
        [
         "39",
         "PRE",
         "1990",
         "1458.349876839249",
         "7.285060854177603"
        ],
        [
         "40",
         "SST",
         "1990",
         "7317.626238500026",
         "8.898041270005894"
        ],
        [
         "41",
         "SAS",
         "1990",
         "1262.372077607415",
         "7.14074783134843"
        ],
        [
         "42",
         "TSA",
         "1990",
         "1262.372077607415",
         "7.14074783134843"
        ],
        [
         "43",
         "SSF",
         "1990",
         "1772.767699031813",
         "7.480297276075495"
        ],
        [
         "44",
         "SSA",
         "1990",
         "1771.809666516538",
         "7.479756713723597"
        ],
        [
         "45",
         "TSS",
         "1990",
         "1772.767699031813",
         "7.480297276075495"
        ],
        [
         "46",
         "UMC",
         "1990",
         "3186.124288460748",
         "8.066560500525396"
        ],
        [
         "47",
         "WLD",
         "1990",
         "5578.127546816283",
         "8.626608433974107"
        ],
        [
         "48",
         "ALB",
         "1990",
         "2549.249860948165",
         "7.843554422698159"
        ],
        [
         "49",
         "DZA",
         "1990",
         "7602.187256543697",
         "8.93619128178248"
        ]
       ],
       "shape": {
        "columns": 4,
        "rows": 8266
       }
      },
      "text/html": [
       "<div>\n",
       "<style scoped>\n",
       "    .dataframe tbody tr th:only-of-type {\n",
       "        vertical-align: middle;\n",
       "    }\n",
       "\n",
       "    .dataframe tbody tr th {\n",
       "        vertical-align: top;\n",
       "    }\n",
       "\n",
       "    .dataframe thead th {\n",
       "        text-align: right;\n",
       "    }\n",
       "</style>\n",
       "<table border=\"1\" class=\"dataframe\">\n",
       "  <thead>\n",
       "    <tr style=\"text-align: right;\">\n",
       "      <th></th>\n",
       "      <th>iso3</th>\n",
       "      <th>year</th>\n",
       "      <th>GDP</th>\n",
       "      <th>logGDP</th>\n",
       "    </tr>\n",
       "  </thead>\n",
       "  <tbody>\n",
       "    <tr>\n",
       "      <th>0</th>\n",
       "      <td>AFE</td>\n",
       "      <td>1990</td>\n",
       "      <td>1804.850022</td>\n",
       "      <td>7.498233</td>\n",
       "    </tr>\n",
       "    <tr>\n",
       "      <th>1</th>\n",
       "      <td>AFW</td>\n",
       "      <td>1990</td>\n",
       "      <td>1727.098432</td>\n",
       "      <td>7.454198</td>\n",
       "    </tr>\n",
       "    <tr>\n",
       "      <th>2</th>\n",
       "      <td>ARB</td>\n",
       "      <td>1990</td>\n",
       "      <td>6796.211335</td>\n",
       "      <td>8.824121</td>\n",
       "    </tr>\n",
       "    <tr>\n",
       "      <th>3</th>\n",
       "      <td>CSS</td>\n",
       "      <td>1990</td>\n",
       "      <td>7293.576337</td>\n",
       "      <td>8.894749</td>\n",
       "    </tr>\n",
       "    <tr>\n",
       "      <th>4</th>\n",
       "      <td>CEB</td>\n",
       "      <td>1990</td>\n",
       "      <td>7527.912899</td>\n",
       "      <td>8.926373</td>\n",
       "    </tr>\n",
       "    <tr>\n",
       "      <th>...</th>\n",
       "      <td>...</td>\n",
       "      <td>...</td>\n",
       "      <td>...</td>\n",
       "      <td>...</td>\n",
       "    </tr>\n",
       "    <tr>\n",
       "      <th>8261</th>\n",
       "      <td>VUT</td>\n",
       "      <td>2023</td>\n",
       "      <td>3460.933714</td>\n",
       "      <td>8.149294</td>\n",
       "    </tr>\n",
       "    <tr>\n",
       "      <th>8262</th>\n",
       "      <td>VNM</td>\n",
       "      <td>2023</td>\n",
       "      <td>14973.883961</td>\n",
       "      <td>9.614063</td>\n",
       "    </tr>\n",
       "    <tr>\n",
       "      <th>8263</th>\n",
       "      <td>PSE</td>\n",
       "      <td>2023</td>\n",
       "      <td>5896.710829</td>\n",
       "      <td>8.682150</td>\n",
       "    </tr>\n",
       "    <tr>\n",
       "      <th>8264</th>\n",
       "      <td>ZMB</td>\n",
       "      <td>2023</td>\n",
       "      <td>4076.995087</td>\n",
       "      <td>8.313115</td>\n",
       "    </tr>\n",
       "    <tr>\n",
       "      <th>8265</th>\n",
       "      <td>ZWE</td>\n",
       "      <td>2023</td>\n",
       "      <td>3820.362629</td>\n",
       "      <td>8.248101</td>\n",
       "    </tr>\n",
       "  </tbody>\n",
       "</table>\n",
       "<p>8266 rows × 4 columns</p>\n",
       "</div>"
      ],
      "text/plain": [
       "     iso3  year           GDP    logGDP\n",
       "0     AFE  1990   1804.850022  7.498233\n",
       "1     AFW  1990   1727.098432  7.454198\n",
       "2     ARB  1990   6796.211335  8.824121\n",
       "3     CSS  1990   7293.576337  8.894749\n",
       "4     CEB  1990   7527.912899  8.926373\n",
       "...   ...   ...           ...       ...\n",
       "8261  VUT  2023   3460.933714  8.149294\n",
       "8262  VNM  2023  14973.883961  9.614063\n",
       "8263  PSE  2023   5896.710829  8.682150\n",
       "8264  ZMB  2023   4076.995087  8.313115\n",
       "8265  ZWE  2023   3820.362629  8.248101\n",
       "\n",
       "[8266 rows x 4 columns]"
      ]
     },
     "execution_count": 13,
     "metadata": {},
     "output_type": "execute_result"
    }
   ],
   "source": [
    "GDP = gdp_pc_ppp.copy()\n",
    "GDP = GDP[['REF_AREA_ID','TIME_PERIOD','OBS_VALUE']]\n",
    "GDP.rename(columns={'REF_AREA_ID':'iso3','TIME_PERIOD':'year','OBS_VALUE':'GDP'},inplace=True)\n",
    "GDP['year'] = pd.to_datetime(GDP['year'], format='%Y',errors='coerce').dt.year\n",
    "GDP['logGDP'] = np.log(GDP['GDP'])"
   ]
  },
  {
   "cell_type": "markdown",
   "id": "40571719",
   "metadata": {},
   "source": [
    "#### Schooling"
   ]
  },
  {
   "cell_type": "code",
   "execution_count": 26,
   "id": "2df78704",
   "metadata": {},
   "outputs": [],
   "source": [
    "SCH = schooling.copy()\n",
    "SCH['INDICATOR_ID'] = SCH['INDICATOR_ID'].astype(str)\n",
    "SCH = SCH[SCH['INDICATOR_ID'].str.contains('NART', na=False)] \n",
    "SCH = SCH.drop(columns=['MAGNITUDE','QUALIFIER'])\n",
    "SCH = pd.merge(schooling_labels,SCH,how='left',on='INDICATOR_ID') # Merge the labels with the schooling data\n",
    "SCH['YEAR'] = pd.to_datetime(SCH['YEAR'], format='%Y',errors='coerce').dt.year "
   ]
  },
  {
   "cell_type": "code",
   "execution_count": 27,
   "id": "efb20bce",
   "metadata": {},
   "outputs": [],
   "source": [
    "Primary = SCH[SCH['INDICATOR_ID'].str.contains('NART.1', na=False)] # Filter for primary education\n",
    "Secondary = SCH[SCH['INDICATOR_ID'].str.contains('NART.2', na=False)] # Filter for secondary education\n",
    "Tertiary = SCH[SCH['INDICATOR_ID'].str.contains('NART.3', na=False)] # Filter for tertiary education"
   ]
  },
  {
   "cell_type": "code",
   "execution_count": 34,
   "id": "233c59c6",
   "metadata": {},
   "outputs": [],
   "source": [
    "P = Primary.pivot(index=['COUNTRY_ID','YEAR'], columns='INDICATOR_LABEL_EN', values='VALUE').reset_index()\n",
    "S = Secondary.pivot(index=['COUNTRY_ID','YEAR'], columns='INDICATOR_LABEL_EN', values='VALUE').reset_index()\n",
    "T = Tertiary.pivot(index=['COUNTRY_ID','YEAR'], columns='INDICATOR_LABEL_EN', values='VALUE').reset_index()"
   ]
  },
  {
   "cell_type": "code",
   "execution_count": 35,
   "id": "21cd2d2b",
   "metadata": {},
   "outputs": [],
   "source": [
    "P.rename(columns={'COUNTRY_ID':'iso3','YEAR':'year'}, inplace=True)\n",
    "S.rename(columns={'COUNTRY_ID':'iso3','YEAR':'year'}, inplace=True)\n",
    "T.rename(columns={'COUNTRY_ID':'iso3','YEAR':'year'}, inplace=True)"
   ]
  },
  {
   "cell_type": "code",
   "execution_count": 38,
   "id": "2980be51",
   "metadata": {},
   "outputs": [
    {
     "name": "stdout",
     "output_type": "stream",
     "text": [
      "INDICATOR_LABEL_EN\n",
      "iso3                                                                                                               0\n",
      "year                                                                                                               0\n",
      "Total net attendance rate, primary education, adjusted gender parity index (GPIA)                                 29\n",
      "Total net attendance rate, primary education, adjusted location parity index (LPIA)                               58\n",
      "Total net attendance rate, primary education, adjusted wealth parity index (WPIA)                                 72\n",
      "Total net attendance rate, primary education, female, adjusted location parity index (LPIA)                      321\n",
      "Total net attendance rate, primary education, female, adjusted wealth parity index (WPIA)                        350\n",
      "Total net attendance rate, primary education, fourth quintile, adjusted gender parity index (GPIA)               349\n",
      "Total net attendance rate, primary education, fourth quintile, adjusted location parity index (LPIA)             351\n",
      "Total net attendance rate, primary education, fourth quintile, female, adjusted location parity index (LPIA)     351\n",
      "Total net attendance rate, primary education, fourth quintile, male, adjusted location parity index (LPIA)       351\n",
      "Total net attendance rate, primary education, male, adjusted location parity index (LPIA)                        321\n",
      "Total net attendance rate, primary education, male, adjusted wealth parity index (WPIA)                          350\n",
      "Total net attendance rate, primary education, middle quintile, adjusted gender parity index (GPIA)               349\n",
      "Total net attendance rate, primary education, middle quintile, adjusted location parity index (LPIA)             351\n",
      "Total net attendance rate, primary education, middle quintile, female, adjusted location parity index (LPIA)     351\n",
      "Total net attendance rate, primary education, middle quintile, male, adjusted location parity index (LPIA)       351\n",
      "Total net attendance rate, primary education, poorest quintile, adjusted gender parity index (GPIA)              350\n",
      "Total net attendance rate, primary education, poorest quintile, adjusted location parity index (LPIA)            355\n",
      "Total net attendance rate, primary education, poorest quintile, female, adjusted location parity index (LPIA)    356\n",
      "Total net attendance rate, primary education, poorest quintile, male, adjusted location parity index (LPIA)      355\n",
      "Total net attendance rate, primary education, richest quintile, adjusted gender parity index (GPIA)              350\n",
      "Total net attendance rate, primary education, richest quintile, adjusted location parity index (LPIA)            355\n",
      "Total net attendance rate, primary education, richest quintile, female, adjusted location parity index (LPIA)    357\n",
      "Total net attendance rate, primary education, richest quintile, male, adjusted location parity index (LPIA)      355\n",
      "Total net attendance rate, primary education, rural, adjusted gender parity index (GPIA)                          58\n",
      "Total net attendance rate, primary education, rural, adjusted wealth parity index (WPIA)                          92\n",
      "Total net attendance rate, primary education, rural, female, adjusted wealth parity index (WPIA)                 357\n",
      "Total net attendance rate, primary education, rural, fourth quintile, adjusted gender parity index (GPIA)        351\n",
      "Total net attendance rate, primary education, rural, male, adjusted wealth parity index (WPIA)                   355\n",
      "Total net attendance rate, primary education, rural, middle quintile, adjusted gender parity index (GPIA)        350\n",
      "Total net attendance rate, primary education, rural, poorest quintile, adjusted gender parity index (GPIA)       351\n",
      "Total net attendance rate, primary education, rural, richest quintile, adjusted gender parity index (GPIA)       357\n",
      "Total net attendance rate, primary education, rural, second quintile, adjusted gender parity index (GPIA)        350\n",
      "Total net attendance rate, primary education, second quintile, adjusted gender parity index (GPIA)               349\n",
      "Total net attendance rate, primary education, second quintile, adjusted location parity index (LPIA)             351\n",
      "Total net attendance rate, primary education, second quintile, female, adjusted location parity index (LPIA)     351\n",
      "Total net attendance rate, primary education, second quintile, male, adjusted location parity index (LPIA)       352\n",
      "Total net attendance rate, primary education, urban, adjusted gender parity index (GPIA)                          29\n",
      "Total net attendance rate, primary education, urban, adjusted wealth parity index (WPIA)                          63\n",
      "Total net attendance rate, primary education, urban, female, adjusted wealth parity index (WPIA)                 356\n",
      "Total net attendance rate, primary education, urban, fourth quintile, adjusted gender parity index (GPIA)        350\n",
      "Total net attendance rate, primary education, urban, male, adjusted wealth parity index (WPIA)                   355\n",
      "Total net attendance rate, primary education, urban, middle quintile, adjusted gender parity index (GPIA)        351\n",
      "Total net attendance rate, primary education, urban, poorest quintile, adjusted gender parity index (GPIA)       356\n",
      "Total net attendance rate, primary education, urban, richest quintile, adjusted gender parity index (GPIA)       351\n",
      "Total net attendance rate, primary education, urban, second quintile, adjusted gender parity index (GPIA)        352\n",
      "Total net attendance rate, primary, both sexes (%)                                                                29\n",
      "Total net attendance rate, primary, female (%)                                                                    29\n",
      "Total net attendance rate, primary, fourth quintile, both sexes (%)                                               71\n",
      "Total net attendance rate, primary, fourth quintile, female (%)                                                  349\n",
      "Total net attendance rate, primary, fourth quintile, male (%)                                                    349\n",
      "Total net attendance rate, primary, male (%)                                                                      29\n",
      "Total net attendance rate, primary, middle quintile, both sexes (%)                                               71\n",
      "Total net attendance rate, primary, middle quintile, female (%)                                                  349\n",
      "Total net attendance rate, primary, middle quintile, male (%)                                                    349\n",
      "Total net attendance rate, primary, poorest quintile, both sexes (%)                                              72\n",
      "Total net attendance rate, primary, poorest quintile, female (%)                                                 350\n",
      "Total net attendance rate, primary, poorest quintile, male (%)                                                   350\n",
      "Total net attendance rate, primary, richest quintile, both sexes (%)                                              72\n",
      "Total net attendance rate, primary, richest quintile, female (%)                                                 350\n",
      "Total net attendance rate, primary, richest quintile, male (%)                                                   350\n",
      "Total net attendance rate, primary, rural, both sexes (%)                                                         58\n",
      "Total net attendance rate, primary, rural, female (%)                                                             58\n",
      "Total net attendance rate, primary, rural, fourth quintile, both sexes (%)                                        88\n",
      "Total net attendance rate, primary, rural, fourth quintile, female (%)                                           351\n",
      "Total net attendance rate, primary, rural, fourth quintile, male (%)                                             351\n",
      "Total net attendance rate, primary, rural, male  (%)                                                              58\n",
      "Total net attendance rate, primary, rural, middle quintile, both sexes (%)                                        87\n",
      "Total net attendance rate, primary, rural, middle quintile, female (%)                                           350\n",
      "Total net attendance rate, primary, rural, middle quintile, male (%)                                             350\n",
      "Total net attendance rate, primary, rural, poorest quintile, both sexes (%)                                       88\n",
      "Total net attendance rate, primary, rural, poorest quintile, female (%)                                          351\n",
      "Total net attendance rate, primary, rural, poorest quintile, male (%)                                            351\n",
      "Total net attendance rate, primary, rural, richest quintile, both sexes (%)                                       92\n",
      "Total net attendance rate, primary, rural, richest quintile, female (%)                                          357\n",
      "Total net attendance rate, primary, rural, richest quintile, male (%)                                            355\n",
      "Total net attendance rate, primary, rural, second quintile, both sexes (%)                                        87\n",
      "Total net attendance rate, primary, rural, second quintile, female (%)                                           350\n",
      "Total net attendance rate, primary, rural, second quintile, male (%)                                             350\n",
      "Total net attendance rate, primary, second quintile, both sexes (%)                                               71\n",
      "Total net attendance rate, primary, second quintile, female (%)                                                  349\n",
      "Total net attendance rate, primary, second quintile, male (%)                                                    349\n",
      "Total net attendance rate, primary, urban, both sexes (%)                                                         29\n",
      "Total net attendance rate, primary, urban, female (%)                                                             29\n",
      "Total net attendance rate, primary, urban, fourth quintile, both sexes (%)                                        58\n",
      "Total net attendance rate, primary, urban, fourth quintile, female (%)                                           350\n",
      "Total net attendance rate, primary, urban, fourth quintile, male (%)                                             350\n",
      "Total net attendance rate, primary, urban, male  (%)                                                              29\n",
      "Total net attendance rate, primary, urban, middle quintile, both sexes (%)                                        59\n",
      "Total net attendance rate, primary, urban, middle quintile, female (%)                                           351\n",
      "Total net attendance rate, primary, urban, middle quintile, male (%)                                             351\n",
      "Total net attendance rate, primary, urban, poorest quintile, both sexes (%)                                       63\n",
      "Total net attendance rate, primary, urban, poorest quintile, female (%)                                          356\n",
      "Total net attendance rate, primary, urban, poorest quintile, male (%)                                            355\n",
      "Total net attendance rate, primary, urban, richest quintile, both sexes (%)                                       59\n",
      "Total net attendance rate, primary, urban, richest quintile, female (%)                                          351\n",
      "Total net attendance rate, primary, urban, richest quintile, male (%)                                            351\n",
      "Total net attendance rate, primary, urban, second quintile, both sexes (%)                                        59\n",
      "Total net attendance rate, primary, urban, second quintile, female (%)                                           351\n",
      "Total net attendance rate, primary, urban, second quintile, male (%)                                             352\n",
      "dtype: int64\n"
     ]
    }
   ],
   "source": [
    "pd.set_option('display.max_rows', None)\n",
    "print(P.isnull().sum())"
   ]
  }
 ],
 "metadata": {
  "kernelspec": {
   "display_name": "base",
   "language": "python",
   "name": "python3"
  },
  "language_info": {
   "codemirror_mode": {
    "name": "ipython",
    "version": 3
   },
   "file_extension": ".py",
   "mimetype": "text/x-python",
   "name": "python",
   "nbconvert_exporter": "python",
   "pygments_lexer": "ipython3",
   "version": "3.12.9"
  }
 },
 "nbformat": 4,
 "nbformat_minor": 5
}
